{
  "metadata": {
    "kernelspec": {
      "language": "python",
      "display_name": "Python 3",
      "name": "python3"
    },
    "language_info": {
      "pygments_lexer": "ipython3",
      "nbconvert_exporter": "python",
      "version": "3.6.4",
      "file_extension": ".py",
      "codemirror_mode": {
        "name": "ipython",
        "version": 3
      },
      "name": "python",
      "mimetype": "text/x-python"
    },
    "colab": {
      "provenance": [],
      "toc_visible": true,
      "include_colab_link": true
    }
  },
  "nbformat_minor": 0,
  "nbformat": 4,
  "cells": [
    {
      "cell_type": "markdown",
      "metadata": {
        "id": "view-in-github",
        "colab_type": "text"
      },
      "source": [
        "<a href=\"https://colab.research.google.com/github/Shlok-11/Stock-Price-Predictor/blob/main/stock_price_prediction_using_lstm.ipynb\" target=\"_parent\"><img src=\"https://colab.research.google.com/assets/colab-badge.svg\" alt=\"Open In Colab\"/></a>"
      ]
    },
    {
      "cell_type": "code",
      "source": [
        "import numpy as np\n",
        "import pandas as pd\n",
        "import matplotlib.pyplot as plt\n",
        "\n",
        "\n"
      ],
      "metadata": {
        "_uuid": "8f2839f25d086af736a60e9eeb907d3b93b6e0e5",
        "_cell_guid": "b1076dfc-b9ad-4769-8c92-a6c4dae69d19",
        "execution": {
          "iopub.status.busy": "2023-06-24T13:37:51.523889Z",
          "iopub.execute_input": "2023-06-24T13:37:51.524477Z",
          "iopub.status.idle": "2023-06-24T13:37:51.532331Z",
          "shell.execute_reply.started": "2023-06-24T13:37:51.524414Z",
          "shell.execute_reply": "2023-06-24T13:37:51.531258Z"
        },
        "trusted": true,
        "id": "Ap2kGQX9VHCY"
      },
      "execution_count": null,
      "outputs": []
    },
    {
      "cell_type": "code",
      "source": [
        "!pip install yfinance"
      ],
      "metadata": {
        "execution": {
          "iopub.status.busy": "2023-06-24T13:37:51.560492Z",
          "iopub.execute_input": "2023-06-24T13:37:51.561286Z",
          "iopub.status.idle": "2023-06-24T13:38:05.468796Z",
          "shell.execute_reply.started": "2023-06-24T13:37:51.561248Z",
          "shell.execute_reply": "2023-06-24T13:38:05.467113Z"
        },
        "trusted": true,
        "id": "Uf7DXAY4VHCd"
      },
      "execution_count": null,
      "outputs": []
    },
    {
      "cell_type": "code",
      "source": [
        "import yfinance as yf # for financial data"
      ],
      "metadata": {
        "execution": {
          "iopub.status.busy": "2023-06-24T13:38:05.472156Z",
          "iopub.execute_input": "2023-06-24T13:38:05.472956Z",
          "iopub.status.idle": "2023-06-24T13:38:05.481354Z",
          "shell.execute_reply.started": "2023-06-24T13:38:05.472912Z",
          "shell.execute_reply": "2023-06-24T13:38:05.478735Z"
        },
        "trusted": true,
        "id": "-UXrYQheVHCe"
      },
      "execution_count": null,
      "outputs": []
    },
    {
      "cell_type": "code",
      "source": [
        "df = yf.download(\"GOOG\", period=\"5y\", interval=\"1d\")\n",
        "df"
      ],
      "metadata": {
        "execution": {
          "iopub.status.busy": "2023-06-24T13:38:05.483486Z",
          "iopub.execute_input": "2023-06-24T13:38:05.484074Z",
          "iopub.status.idle": "2023-06-24T13:38:05.678079Z",
          "shell.execute_reply.started": "2023-06-24T13:38:05.484026Z",
          "shell.execute_reply": "2023-06-24T13:38:05.676439Z"
        },
        "trusted": true,
        "id": "GDcveZ22VHCe"
      },
      "execution_count": null,
      "outputs": []
    },
    {
      "cell_type": "code",
      "source": [
        "df = df.asfreq('D')\n",
        "df"
      ],
      "metadata": {
        "execution": {
          "iopub.status.busy": "2023-06-24T13:38:05.681485Z",
          "iopub.execute_input": "2023-06-24T13:38:05.681951Z",
          "iopub.status.idle": "2023-06-24T13:38:05.711447Z",
          "shell.execute_reply.started": "2023-06-24T13:38:05.681915Z",
          "shell.execute_reply": "2023-06-24T13:38:05.71008Z"
        },
        "trusted": true,
        "id": "cHyWt-HMVHCe"
      },
      "execution_count": null,
      "outputs": []
    },
    {
      "cell_type": "code",
      "source": [
        "df = df.fillna(method='ffill')\n",
        "df"
      ],
      "metadata": {
        "execution": {
          "iopub.status.busy": "2023-06-24T13:38:05.713192Z",
          "iopub.execute_input": "2023-06-24T13:38:05.713593Z",
          "iopub.status.idle": "2023-06-24T13:38:05.740194Z",
          "shell.execute_reply.started": "2023-06-24T13:38:05.71356Z",
          "shell.execute_reply": "2023-06-24T13:38:05.738777Z"
        },
        "trusted": true,
        "id": "7upYidUnVHCf"
      },
      "execution_count": null,
      "outputs": []
    },
    {
      "cell_type": "code",
      "source": [
        "# filter columns\n",
        "ts = df[['Close']]\n",
        "ts"
      ],
      "metadata": {
        "execution": {
          "iopub.status.busy": "2023-06-24T13:38:05.742362Z",
          "iopub.execute_input": "2023-06-24T13:38:05.74283Z",
          "iopub.status.idle": "2023-06-24T13:38:05.761782Z",
          "shell.execute_reply.started": "2023-06-24T13:38:05.74279Z",
          "shell.execute_reply": "2023-06-24T13:38:05.760273Z"
        },
        "trusted": true,
        "id": "Hsmy-YFmVHCf"
      },
      "execution_count": null,
      "outputs": []
    },
    {
      "cell_type": "code",
      "source": [
        "# Plot the data and identify any unusual observations\n",
        "plt.figure(figsize=(10, 6))\n",
        "plt.plot(ts.index, ts.values, label='Original Data')\n",
        "plt.legend()\n",
        "plt.xlabel('Time')\n",
        "plt.ylabel('Value')\n",
        "plt.show()"
      ],
      "metadata": {
        "execution": {
          "iopub.status.busy": "2023-06-24T13:38:05.763894Z",
          "iopub.execute_input": "2023-06-24T13:38:05.764405Z",
          "iopub.status.idle": "2023-06-24T13:38:06.17622Z",
          "shell.execute_reply.started": "2023-06-24T13:38:05.764364Z",
          "shell.execute_reply": "2023-06-24T13:38:06.174877Z"
        },
        "trusted": true,
        "id": "ARrAh19FVHCg"
      },
      "execution_count": null,
      "outputs": []
    },
    {
      "cell_type": "code",
      "source": [
        "# Perform seasonal decomposition\n",
        "from statsmodels.tsa.seasonal import seasonal_decompose\n",
        "decomposition = seasonal_decompose(ts, model='additive')"
      ],
      "metadata": {
        "execution": {
          "iopub.status.busy": "2023-06-24T13:38:06.17822Z",
          "iopub.execute_input": "2023-06-24T13:38:06.180046Z",
          "iopub.status.idle": "2023-06-24T13:38:06.192341Z",
          "shell.execute_reply.started": "2023-06-24T13:38:06.179991Z",
          "shell.execute_reply": "2023-06-24T13:38:06.190875Z"
        },
        "trusted": true,
        "id": "KEuzVY2aVHCg"
      },
      "execution_count": null,
      "outputs": []
    },
    {
      "cell_type": "code",
      "source": [
        "trend = decomposition.trend\n",
        "seasonal = decomposition.seasonal\n",
        "residuals = decomposition.resid"
      ],
      "metadata": {
        "execution": {
          "iopub.status.busy": "2023-06-24T13:38:06.194441Z",
          "iopub.execute_input": "2023-06-24T13:38:06.194949Z",
          "iopub.status.idle": "2023-06-24T13:38:06.201877Z",
          "shell.execute_reply.started": "2023-06-24T13:38:06.194914Z",
          "shell.execute_reply": "2023-06-24T13:38:06.200746Z"
        },
        "trusted": true,
        "id": "2MrsFaiJVHCg"
      },
      "execution_count": null,
      "outputs": []
    },
    {
      "cell_type": "code",
      "source": [
        "# Create subplots for each component\n",
        "fig, axes = plt.subplots(nrows=4, ncols=1, figsize=(10, 8))\n",
        "\n",
        "# Plot the original time series\n",
        "axes[0].plot(ts, label='Original')\n",
        "axes[0].set_ylabel('Original')\n",
        "\n",
        "# Plot the trend component\n",
        "axes[1].plot(trend, label='Trend')\n",
        "axes[1].set_ylabel('Trend')\n",
        "\n",
        "# Plot the seasonal component\n",
        "axes[2].plot(seasonal, label='Seasonality')\n",
        "axes[2].set_ylabel('Seasonality')\n",
        "\n",
        "# Plot the residuals component\n",
        "axes[3].plot(residuals, label='Residuals')\n",
        "axes[3].set_ylabel('Residuals')\n",
        "\n",
        "# Add titles and legends\n",
        "axes[0].set_title('Time Series Decomposition')\n",
        "plt.tight_layout()\n",
        "plt.show()"
      ],
      "metadata": {
        "execution": {
          "iopub.status.busy": "2023-06-24T13:38:06.206342Z",
          "iopub.execute_input": "2023-06-24T13:38:06.207074Z",
          "iopub.status.idle": "2023-06-24T13:38:07.504953Z",
          "shell.execute_reply.started": "2023-06-24T13:38:06.207032Z",
          "shell.execute_reply": "2023-06-24T13:38:07.503457Z"
        },
        "trusted": true,
        "id": "wSr9dEDYVHCg"
      },
      "execution_count": null,
      "outputs": []
    },
    {
      "cell_type": "code",
      "source": [
        "# train/test split\n",
        "ts_train = ts.iloc[:int(ts.size * .8)]\n",
        "ts_test = ts.iloc[int(ts.size * .8):]"
      ],
      "metadata": {
        "execution": {
          "iopub.status.busy": "2023-06-24T13:38:07.506858Z",
          "iopub.execute_input": "2023-06-24T13:38:07.507296Z",
          "iopub.status.idle": "2023-06-24T13:38:07.515022Z",
          "shell.execute_reply.started": "2023-06-24T13:38:07.507261Z",
          "shell.execute_reply": "2023-06-24T13:38:07.513398Z"
        },
        "trusted": true,
        "id": "gXZ82w6VVHCh"
      },
      "execution_count": null,
      "outputs": []
    },
    {
      "cell_type": "code",
      "source": [
        "# Plot the data and identify any unusual observations\n",
        "plt.figure(figsize=(10, 6))\n",
        "plt.plot(ts_train.index, ts_train.values, 'blue', label='Train Data')\n",
        "plt.plot(ts_test.index, ts_test.values, 'green', label='Test Data')\n",
        "plt.legend()\n",
        "plt.xlabel('Time')\n",
        "plt.ylabel('Value')\n",
        "plt.show()"
      ],
      "metadata": {
        "execution": {
          "iopub.status.busy": "2023-06-24T13:38:07.51736Z",
          "iopub.execute_input": "2023-06-24T13:38:07.51783Z",
          "iopub.status.idle": "2023-06-24T13:38:07.928222Z",
          "shell.execute_reply.started": "2023-06-24T13:38:07.517794Z",
          "shell.execute_reply": "2023-06-24T13:38:07.926741Z"
        },
        "trusted": true,
        "id": "JzZmYEZBVHCh"
      },
      "execution_count": null,
      "outputs": []
    },
    {
      "cell_type": "code",
      "source": [
        "from sklearn.preprocessing import MinMaxScaler\n",
        "# Normalize the data\n",
        "scaler = MinMaxScaler()\n",
        "scaler.fit(ts_train.values) # fit on train\n",
        "scaled_ts_train_values = scaler.transform(ts_train.values) # transform on train\n",
        "scaled_ts_test_values = scaler.transform(ts_test.values) # transform on train"
      ],
      "metadata": {
        "execution": {
          "iopub.status.busy": "2023-06-24T13:38:07.930919Z",
          "iopub.execute_input": "2023-06-24T13:38:07.931473Z",
          "iopub.status.idle": "2023-06-24T13:38:07.941633Z",
          "shell.execute_reply.started": "2023-06-24T13:38:07.931429Z",
          "shell.execute_reply": "2023-06-24T13:38:07.940227Z"
        },
        "trusted": true,
        "id": "z4sImooeVHCh"
      },
      "execution_count": null,
      "outputs": []
    },
    {
      "cell_type": "code",
      "source": [
        "from keras.preprocessing.sequence import TimeseriesGenerator"
      ],
      "metadata": {
        "execution": {
          "iopub.status.busy": "2023-06-24T13:38:07.943596Z",
          "iopub.execute_input": "2023-06-24T13:38:07.944029Z",
          "iopub.status.idle": "2023-06-24T13:38:07.954112Z",
          "shell.execute_reply.started": "2023-06-24T13:38:07.943995Z",
          "shell.execute_reply": "2023-06-24T13:38:07.952614Z"
        },
        "trusted": true,
        "id": "XTC48VSWVHCh"
      },
      "execution_count": null,
      "outputs": []
    },
    {
      "cell_type": "code",
      "source": [
        "n_input = 24\n",
        "n_features = 1\n",
        "generator = TimeseriesGenerator(scaled_ts_train_values, scaled_ts_train_values, length=n_input, batch_size=1)"
      ],
      "metadata": {
        "execution": {
          "iopub.status.busy": "2023-06-24T13:38:07.955798Z",
          "iopub.execute_input": "2023-06-24T13:38:07.956238Z",
          "iopub.status.idle": "2023-06-24T13:38:07.967629Z",
          "shell.execute_reply.started": "2023-06-24T13:38:07.956204Z",
          "shell.execute_reply": "2023-06-24T13:38:07.966298Z"
        },
        "trusted": true,
        "id": "zzkE7ZXfVHCh"
      },
      "execution_count": null,
      "outputs": []
    },
    {
      "cell_type": "code",
      "source": [
        "from keras.models import Sequential\n",
        "from keras.layers import Dense\n",
        "from keras.layers import LSTM"
      ],
      "metadata": {
        "execution": {
          "iopub.status.busy": "2023-06-24T13:38:07.969973Z",
          "iopub.execute_input": "2023-06-24T13:38:07.970377Z",
          "iopub.status.idle": "2023-06-24T13:38:07.982183Z",
          "shell.execute_reply.started": "2023-06-24T13:38:07.970346Z",
          "shell.execute_reply": "2023-06-24T13:38:07.980639Z"
        },
        "trusted": true,
        "id": "9OrSZyYfVHCh"
      },
      "execution_count": null,
      "outputs": []
    },
    {
      "cell_type": "code",
      "source": [
        "# define model\n",
        "model = Sequential()\n",
        "model.add(LSTM(100, activation='relu', input_shape=(n_input, n_features)))\n",
        "model.add(Dense(1))\n",
        "model.compile(optimizer='adam', loss='mse')"
      ],
      "metadata": {
        "execution": {
          "iopub.status.busy": "2023-06-24T13:38:07.984322Z",
          "iopub.execute_input": "2023-06-24T13:38:07.984778Z",
          "iopub.status.idle": "2023-06-24T13:38:08.140414Z",
          "shell.execute_reply.started": "2023-06-24T13:38:07.984744Z",
          "shell.execute_reply": "2023-06-24T13:38:08.138953Z"
        },
        "trusted": true,
        "id": "BMIMTLPuVHCh"
      },
      "execution_count": null,
      "outputs": []
    },
    {
      "cell_type": "code",
      "source": [
        "model.summary()"
      ],
      "metadata": {
        "execution": {
          "iopub.status.busy": "2023-06-24T13:38:08.142242Z",
          "iopub.execute_input": "2023-06-24T13:38:08.143195Z",
          "iopub.status.idle": "2023-06-24T13:38:08.165309Z",
          "shell.execute_reply.started": "2023-06-24T13:38:08.143106Z",
          "shell.execute_reply": "2023-06-24T13:38:08.16405Z"
        },
        "trusted": true,
        "id": "3eAOz9S6VHCh"
      },
      "execution_count": null,
      "outputs": []
    },
    {
      "cell_type": "code",
      "source": [
        "# fit model\n",
        "model.fit(generator, epochs=50, verbose=0)"
      ],
      "metadata": {
        "execution": {
          "iopub.status.busy": "2023-06-24T13:38:08.16752Z",
          "iopub.execute_input": "2023-06-24T13:38:08.168435Z",
          "iopub.status.idle": "2023-06-24T13:53:53.720783Z",
          "shell.execute_reply.started": "2023-06-24T13:38:08.168385Z",
          "shell.execute_reply": "2023-06-24T13:53:53.719427Z"
        },
        "trusted": true,
        "id": "S2a_YiXQVHCi"
      },
      "execution_count": null,
      "outputs": []
    },
    {
      "cell_type": "code",
      "source": [
        "# plot loss\n",
        "loss_pre_epoch = model.history.history['loss']\n",
        "\n",
        "plt.plot(range(len(loss_pre_epoch)), loss_pre_epoch)"
      ],
      "metadata": {
        "execution": {
          "iopub.status.busy": "2023-06-24T13:53:53.722978Z",
          "iopub.execute_input": "2023-06-24T13:53:53.723457Z",
          "iopub.status.idle": "2023-06-24T13:53:54.015893Z",
          "shell.execute_reply.started": "2023-06-24T13:53:53.723413Z",
          "shell.execute_reply": "2023-06-24T13:53:54.014472Z"
        },
        "trusted": true,
        "id": "ZmupUcxXVHCi"
      },
      "execution_count": null,
      "outputs": []
    },
    {
      "cell_type": "code",
      "source": [
        "test_predictions = []\n",
        "first_eval_batch = scaled_ts_train_values[-n_input:]\n",
        "\n",
        "current_batch = first_eval_batch.reshape((1, n_input, n_features))\n",
        "\n",
        "for i in range(len(ts_test)):\n",
        "\n",
        "    current_pred = model.predict(current_batch, verbose=0)[0]\n",
        "\n",
        "    test_predictions.append(current_pred)\n",
        "\n",
        "    current_batch = np.append(current_batch[:, 1:, :], [[current_pred]], axis=1)"
      ],
      "metadata": {
        "execution": {
          "iopub.status.busy": "2023-06-24T13:53:54.017823Z",
          "iopub.execute_input": "2023-06-24T13:53:54.018305Z",
          "iopub.status.idle": "2023-06-24T13:54:19.23323Z",
          "shell.execute_reply.started": "2023-06-24T13:53:54.018264Z",
          "shell.execute_reply": "2023-06-24T13:54:19.231946Z"
        },
        "trusted": true,
        "id": "HEnrkIcNVHCi"
      },
      "execution_count": null,
      "outputs": []
    },
    {
      "cell_type": "code",
      "source": [
        "true_predictions = scaler.inverse_transform(test_predictions)\n",
        "# true_predictions"
      ],
      "metadata": {
        "execution": {
          "iopub.status.busy": "2023-06-24T13:54:19.234623Z",
          "iopub.execute_input": "2023-06-24T13:54:19.234992Z",
          "iopub.status.idle": "2023-06-24T13:54:19.241426Z",
          "shell.execute_reply.started": "2023-06-24T13:54:19.234962Z",
          "shell.execute_reply": "2023-06-24T13:54:19.240618Z"
        },
        "trusted": true,
        "id": "BnDzOxt8VHCi"
      },
      "execution_count": null,
      "outputs": []
    },
    {
      "cell_type": "code",
      "source": [
        "# Plot the data and identify any unusual observations\n",
        "plt.figure(figsize=(10, 6))\n",
        "plt.plot(ts_train.index, ts_train.values, 'blue', label='Train Data')\n",
        "plt.plot(ts_test.index, ts_test.values, 'green', label='Test Data')\n",
        "plt.plot(ts_test.index, true_predictions, 'orange', label='Forecasted Data')\n",
        "plt.legend()\n",
        "plt.xlabel('Time')\n",
        "plt.ylabel('Value')\n",
        "plt.show()"
      ],
      "metadata": {
        "execution": {
          "iopub.status.busy": "2023-06-24T13:54:19.242912Z",
          "iopub.execute_input": "2023-06-24T13:54:19.243218Z",
          "iopub.status.idle": "2023-06-24T13:54:19.659039Z",
          "shell.execute_reply.started": "2023-06-24T13:54:19.243193Z",
          "shell.execute_reply": "2023-06-24T13:54:19.657866Z"
        },
        "trusted": true,
        "id": "EhqDSjl7VHCi"
      },
      "execution_count": null,
      "outputs": []
    },
    {
      "cell_type": "code",
      "source": [
        "# Plot the original data and forecasted values\n",
        "plt.figure(figsize=(10, 6))\n",
        "plt.plot(ts_test.index, ts_test.values, label='Original Data')\n",
        "plt.plot(ts_test.index, true_predictions, label='Forecasted Data')\n",
        "plt.legend()\n",
        "plt.xlabel('Time')\n",
        "plt.ylabel('Value')\n",
        "plt.title('ARIMA Forecast')\n",
        "plt.show()"
      ],
      "metadata": {
        "execution": {
          "iopub.status.busy": "2023-06-24T13:54:19.660739Z",
          "iopub.execute_input": "2023-06-24T13:54:19.661074Z",
          "iopub.status.idle": "2023-06-24T13:54:20.088664Z",
          "shell.execute_reply.started": "2023-06-24T13:54:19.661045Z",
          "shell.execute_reply": "2023-06-24T13:54:20.087423Z"
        },
        "trusted": true,
        "id": "9X4AIFG2VHCi"
      },
      "execution_count": null,
      "outputs": []
    }
  ]
}